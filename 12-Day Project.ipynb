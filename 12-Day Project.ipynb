{
 "cells": [
  {
   "cell_type": "markdown",
   "id": "5920dccf",
   "metadata": {},
   "source": [
    "# Pandas (Day 4)"
   ]
  },
  {
   "cell_type": "code",
   "execution_count": 28,
   "id": "4020fd89",
   "metadata": {},
   "outputs": [],
   "source": [
    "import pandas as pd"
   ]
  },
  {
   "cell_type": "markdown",
   "id": "15ae59c8",
   "metadata": {},
   "source": [
    "## Question 1"
   ]
  },
  {
   "cell_type": "code",
   "execution_count": 25,
   "id": "96cdcca3",
   "metadata": {},
   "outputs": [],
   "source": [
    "ECSP = pd.read_csv('Value_of_Energy_Cost_Savings_Program_Savings_for_Businesses.csv')"
   ]
  },
  {
   "cell_type": "code",
   "execution_count": 26,
   "id": "7fe63afc",
   "metadata": {},
   "outputs": [
    {
     "data": {
      "text/plain": [
       "787"
      ]
     },
     "execution_count": 26,
     "metadata": {},
     "output_type": "execute_result"
    }
   ],
   "source": [
    "ECSP['Company Name'].nunique()"
   ]
  },
  {
   "cell_type": "markdown",
   "id": "4d9c407a",
   "metadata": {},
   "source": [
    "## Question 2"
   ]
  },
  {
   "cell_type": "code",
   "execution_count": 27,
   "id": "8c87d0f1",
   "metadata": {},
   "outputs": [
    {
     "data": {
      "text/plain": [
       "12257.0"
      ]
     },
     "execution_count": 27,
     "metadata": {},
     "output_type": "execute_result"
    }
   ],
   "source": [
    "ECSP[ECSP['City'] == 'Queens']['Job created'].sum()"
   ]
  },
  {
   "cell_type": "markdown",
   "id": "1dcb1d1f",
   "metadata": {},
   "source": [
    "## Question 3"
   ]
  },
  {
   "cell_type": "code",
   "execution_count": 16,
   "id": "7e2a3712",
   "metadata": {},
   "outputs": [
    {
     "data": {
      "text/plain": [
       "False"
      ]
     },
     "execution_count": 16,
     "metadata": {},
     "output_type": "execute_result"
    }
   ],
   "source": [
    "ECSP['company email'].count() == len(ECSP)"
   ]
  },
  {
   "cell_type": "code",
   "execution_count": 17,
   "id": "48b2d9f1",
   "metadata": {},
   "outputs": [],
   "source": [
    "ECSP['company email update'] = ECSP['company email'].fillna('EMPTY')"
   ]
  },
  {
   "cell_type": "code",
   "execution_count": 18,
   "id": "771250a4",
   "metadata": {},
   "outputs": [],
   "source": [
    "def get_e_domain(email):\n",
    "    if email == 'EMPTY':\n",
    "        return ''\n",
    "    elif len(email.split('@')) == 1:\n",
    "        #print(email)\n",
    "        return ''\n",
    "    else:\n",
    "        return email.split('@')[1].split('.')[0]"
   ]
  },
  {
   "cell_type": "code",
   "execution_count": 20,
   "id": "94c07cb5",
   "metadata": {},
   "outputs": [
    {
     "data": {
      "text/plain": [
       "584"
      ]
     },
     "execution_count": 20,
     "metadata": {},
     "output_type": "execute_result"
    }
   ],
   "source": [
    "ECSP['company email update'].apply(get_e_domain).nunique()"
   ]
  },
  {
   "cell_type": "markdown",
   "id": "39af17ba",
   "metadata": {},
   "source": [
    "## Question 4"
   ]
  },
  {
   "cell_type": "code",
   "execution_count": 100,
   "id": "1a014048",
   "metadata": {},
   "outputs": [],
   "source": [
    "count_bsn = ECSP.groupby('Neighborhood Tabulation Area (NTA) (2020)').count()\n",
    "NTA_sr = count_bsn[count_bsn['Company Name'] >= 5]['Company Name']"
   ]
  },
  {
   "cell_type": "code",
   "execution_count": 101,
   "id": "1b2c7a37",
   "metadata": {},
   "outputs": [],
   "source": [
    "NTA_df1 = pd.DataFrame(NTA_sr)"
   ]
  },
  {
   "cell_type": "code",
   "execution_count": 102,
   "id": "c21fe45a",
   "metadata": {},
   "outputs": [
    {
     "name": "stderr",
     "output_type": "stream",
     "text": [
      "C:\\Users\\16143\\AppData\\Local\\Temp\\ipykernel_24864\\1713535155.py:1: FutureWarning: The default value of numeric_only in DataFrameGroupBy.mean is deprecated. In a future version, numeric_only will default to False. Either specify numeric_only or select only columns which should be valid for the function.\n",
      "  NTA_sr2 = ECSP.groupby('Neighborhood Tabulation Area (NTA) (2020)').mean() \\\n"
     ]
    }
   ],
   "source": [
    "NTA_sr2 = ECSP.groupby('Neighborhood Tabulation Area (NTA) (2020)').mean() \\\n",
    "        ['Total Savings']\n",
    "NTA_df2 = pd.DataFrame(NTA_sr2)"
   ]
  },
  {
   "cell_type": "code",
   "execution_count": 103,
   "id": "e400af1d",
   "metadata": {},
   "outputs": [
    {
     "name": "stderr",
     "output_type": "stream",
     "text": [
      "C:\\Users\\16143\\AppData\\Local\\Temp\\ipykernel_24864\\1041727620.py:1: FutureWarning: The default value of numeric_only in DataFrameGroupBy.sum is deprecated. In a future version, numeric_only will default to False. Either specify numeric_only or select only columns which should be valid for the function.\n",
      "  NTA_sr3 = ECSP.groupby('Neighborhood Tabulation Area (NTA) (2020)').sum() \\\n"
     ]
    }
   ],
   "source": [
    "NTA_sr3 = ECSP.groupby('Neighborhood Tabulation Area (NTA) (2020)').sum() \\\n",
    "        ['Job created']\n",
    "NTA_df3 = pd.DataFrame(NTA_sr3)"
   ]
  },
  {
   "cell_type": "code",
   "execution_count": 109,
   "id": "3e170f3a",
   "metadata": {},
   "outputs": [
    {
     "data": {
      "text/html": [
       "<div>\n",
       "<style scoped>\n",
       "    .dataframe tbody tr th:only-of-type {\n",
       "        vertical-align: middle;\n",
       "    }\n",
       "\n",
       "    .dataframe tbody tr th {\n",
       "        vertical-align: top;\n",
       "    }\n",
       "\n",
       "    .dataframe thead th {\n",
       "        text-align: right;\n",
       "    }\n",
       "</style>\n",
       "<table border=\"1\" class=\"dataframe\">\n",
       "  <thead>\n",
       "    <tr style=\"text-align: right;\">\n",
       "      <th></th>\n",
       "      <th>Company Name</th>\n",
       "      <th>Total Savings</th>\n",
       "      <th>Job created</th>\n",
       "    </tr>\n",
       "    <tr>\n",
       "      <th>Neighborhood Tabulation Area (NTA) (2020)</th>\n",
       "      <th></th>\n",
       "      <th></th>\n",
       "      <th></th>\n",
       "    </tr>\n",
       "  </thead>\n",
       "  <tbody>\n",
       "    <tr>\n",
       "      <th>BK0101</th>\n",
       "      <td>78</td>\n",
       "      <td>10367.961795</td>\n",
       "      <td>16.0</td>\n",
       "    </tr>\n",
       "    <tr>\n",
       "      <th>BK0102</th>\n",
       "      <td>9</td>\n",
       "      <td>12599.753333</td>\n",
       "      <td>15.0</td>\n",
       "    </tr>\n",
       "    <tr>\n",
       "      <th>BK0103</th>\n",
       "      <td>7</td>\n",
       "      <td>19150.922857</td>\n",
       "      <td>0.0</td>\n",
       "    </tr>\n",
       "    <tr>\n",
       "      <th>BK0104</th>\n",
       "      <td>104</td>\n",
       "      <td>21158.253077</td>\n",
       "      <td>187.0</td>\n",
       "    </tr>\n",
       "    <tr>\n",
       "      <th>BK0201</th>\n",
       "      <td>11</td>\n",
       "      <td>15102.036364</td>\n",
       "      <td>0.0</td>\n",
       "    </tr>\n",
       "    <tr>\n",
       "      <th>...</th>\n",
       "      <td>...</td>\n",
       "      <td>...</td>\n",
       "      <td>...</td>\n",
       "    </tr>\n",
       "    <tr>\n",
       "      <th>QN1305</th>\n",
       "      <td>5</td>\n",
       "      <td>166379.352000</td>\n",
       "      <td>0.0</td>\n",
       "    </tr>\n",
       "    <tr>\n",
       "      <th>QN1306</th>\n",
       "      <td>25</td>\n",
       "      <td>21160.505200</td>\n",
       "      <td>0.0</td>\n",
       "    </tr>\n",
       "    <tr>\n",
       "      <th>SI0106</th>\n",
       "      <td>7</td>\n",
       "      <td>6338.252857</td>\n",
       "      <td>10.0</td>\n",
       "    </tr>\n",
       "    <tr>\n",
       "      <th>SI0107</th>\n",
       "      <td>15</td>\n",
       "      <td>113610.160000</td>\n",
       "      <td>300.0</td>\n",
       "    </tr>\n",
       "    <tr>\n",
       "      <th>SI0204</th>\n",
       "      <td>12</td>\n",
       "      <td>605464.839167</td>\n",
       "      <td>0.0</td>\n",
       "    </tr>\n",
       "  </tbody>\n",
       "</table>\n",
       "<p>72 rows × 3 columns</p>\n",
       "</div>"
      ],
      "text/plain": [
       "                                           Company Name  Total Savings  \\\n",
       "Neighborhood Tabulation Area (NTA) (2020)                                \n",
       "BK0101                                               78   10367.961795   \n",
       "BK0102                                                9   12599.753333   \n",
       "BK0103                                                7   19150.922857   \n",
       "BK0104                                              104   21158.253077   \n",
       "BK0201                                               11   15102.036364   \n",
       "...                                                 ...            ...   \n",
       "QN1305                                                5  166379.352000   \n",
       "QN1306                                               25   21160.505200   \n",
       "SI0106                                                7    6338.252857   \n",
       "SI0107                                               15  113610.160000   \n",
       "SI0204                                               12  605464.839167   \n",
       "\n",
       "                                           Job created  \n",
       "Neighborhood Tabulation Area (NTA) (2020)               \n",
       "BK0101                                            16.0  \n",
       "BK0102                                            15.0  \n",
       "BK0103                                             0.0  \n",
       "BK0104                                           187.0  \n",
       "BK0201                                             0.0  \n",
       "...                                                ...  \n",
       "QN1305                                             0.0  \n",
       "QN1306                                             0.0  \n",
       "SI0106                                            10.0  \n",
       "SI0107                                           300.0  \n",
       "SI0204                                             0.0  \n",
       "\n",
       "[72 rows x 3 columns]"
      ]
     },
     "execution_count": 109,
     "metadata": {},
     "output_type": "execute_result"
    }
   ],
   "source": [
    "NTA_df = NTA_df1.join(NTA_df2).join(NTA_df3)\n",
    "NTA_df"
   ]
  },
  {
   "cell_type": "markdown",
   "id": "8526257c",
   "metadata": {},
   "source": [
    "## Question 5"
   ]
  },
  {
   "cell_type": "code",
   "execution_count": 111,
   "id": "7daf3a53",
   "metadata": {},
   "outputs": [],
   "source": [
    "NTA_df.to_csv('NTA_TotalSavingsJobs',index=False)"
   ]
  },
  {
   "cell_type": "markdown",
   "id": "032d6a2d",
   "metadata": {},
   "source": [
    "# Plot (Day 5)"
   ]
  },
  {
   "cell_type": "code",
   "execution_count": 117,
   "id": "8ba293b9",
   "metadata": {},
   "outputs": [],
   "source": [
    "import seaborn as sns\n",
    "import matplotlib.pyplot as plt\n",
    "%matplotlib inline"
   ]
  },
  {
   "cell_type": "markdown",
   "id": "6da81c7a",
   "metadata": {},
   "source": [
    "## Q1 Scatter Plot"
   ]
  },
  {
   "cell_type": "code",
   "execution_count": 120,
   "id": "cf53675b",
   "metadata": {},
   "outputs": [
    {
     "data": {
      "text/html": [
       "<div>\n",
       "<style scoped>\n",
       "    .dataframe tbody tr th:only-of-type {\n",
       "        vertical-align: middle;\n",
       "    }\n",
       "\n",
       "    .dataframe tbody tr th {\n",
       "        vertical-align: top;\n",
       "    }\n",
       "\n",
       "    .dataframe thead th {\n",
       "        text-align: right;\n",
       "    }\n",
       "</style>\n",
       "<table border=\"1\" class=\"dataframe\">\n",
       "  <thead>\n",
       "    <tr style=\"text-align: right;\">\n",
       "      <th></th>\n",
       "      <th>Company Name</th>\n",
       "      <th>Total Savings</th>\n",
       "      <th>Job created</th>\n",
       "    </tr>\n",
       "  </thead>\n",
       "  <tbody>\n",
       "    <tr>\n",
       "      <th>0</th>\n",
       "      <td>78</td>\n",
       "      <td>10367.961795</td>\n",
       "      <td>16.0</td>\n",
       "    </tr>\n",
       "    <tr>\n",
       "      <th>1</th>\n",
       "      <td>9</td>\n",
       "      <td>12599.753333</td>\n",
       "      <td>15.0</td>\n",
       "    </tr>\n",
       "    <tr>\n",
       "      <th>2</th>\n",
       "      <td>7</td>\n",
       "      <td>19150.922857</td>\n",
       "      <td>0.0</td>\n",
       "    </tr>\n",
       "    <tr>\n",
       "      <th>3</th>\n",
       "      <td>104</td>\n",
       "      <td>21158.253077</td>\n",
       "      <td>187.0</td>\n",
       "    </tr>\n",
       "    <tr>\n",
       "      <th>4</th>\n",
       "      <td>11</td>\n",
       "      <td>15102.036364</td>\n",
       "      <td>0.0</td>\n",
       "    </tr>\n",
       "    <tr>\n",
       "      <th>...</th>\n",
       "      <td>...</td>\n",
       "      <td>...</td>\n",
       "      <td>...</td>\n",
       "    </tr>\n",
       "    <tr>\n",
       "      <th>67</th>\n",
       "      <td>5</td>\n",
       "      <td>166379.352000</td>\n",
       "      <td>0.0</td>\n",
       "    </tr>\n",
       "    <tr>\n",
       "      <th>68</th>\n",
       "      <td>25</td>\n",
       "      <td>21160.505200</td>\n",
       "      <td>0.0</td>\n",
       "    </tr>\n",
       "    <tr>\n",
       "      <th>69</th>\n",
       "      <td>7</td>\n",
       "      <td>6338.252857</td>\n",
       "      <td>10.0</td>\n",
       "    </tr>\n",
       "    <tr>\n",
       "      <th>70</th>\n",
       "      <td>15</td>\n",
       "      <td>113610.160000</td>\n",
       "      <td>300.0</td>\n",
       "    </tr>\n",
       "    <tr>\n",
       "      <th>71</th>\n",
       "      <td>12</td>\n",
       "      <td>605464.839167</td>\n",
       "      <td>0.0</td>\n",
       "    </tr>\n",
       "  </tbody>\n",
       "</table>\n",
       "<p>72 rows × 3 columns</p>\n",
       "</div>"
      ],
      "text/plain": [
       "    Company Name  Total Savings  Job created\n",
       "0             78   10367.961795         16.0\n",
       "1              9   12599.753333         15.0\n",
       "2              7   19150.922857          0.0\n",
       "3            104   21158.253077        187.0\n",
       "4             11   15102.036364          0.0\n",
       "..           ...            ...          ...\n",
       "67             5  166379.352000          0.0\n",
       "68            25   21160.505200          0.0\n",
       "69             7    6338.252857         10.0\n",
       "70            15  113610.160000        300.0\n",
       "71            12  605464.839167          0.0\n",
       "\n",
       "[72 rows x 3 columns]"
      ]
     },
     "execution_count": 120,
     "metadata": {},
     "output_type": "execute_result"
    }
   ],
   "source": [
    "NTA_df = pd.read_csv('NTA_TotalSavingsJobs')\n",
    "NTA_df"
   ]
  },
  {
   "cell_type": "code",
   "execution_count": 169,
   "id": "8a31c136",
   "metadata": {},
   "outputs": [
    {
     "data": {
      "text/plain": [
       "Text(0, 0.5, 'Average savings (log)')"
      ]
     },
     "execution_count": 169,
     "metadata": {},
     "output_type": "execute_result"
    },
    {
     "data": {
      "image/png": "[encoded data removed]",
      "text/plain": [
       "<Figure size 1000x600 with 2 Axes>"
      ]
     },
     "metadata": {},
     "output_type": "display_data"
    }
   ],
   "source": [
    "f, (ax1, ax2) = plt.subplots(2, 1, figsize = (10,6), sharex=True)\n",
    "\n",
    "ax1.scatter(NTA_df['Job created'], NTA_df['Total Savings'], c = 'r')\n",
    "ax1.set_title('Job Created vs. Average Savings')\n",
    "ax1.set_ylabel('Average savings')\n",
    "\n",
    "ax2.set_yscale('log')\n",
    "ax2.scatter(NTA_df['Job created'], NTA_df['Total Savings'], c = 'b')\n",
    "ax2.set_xlabel('Jobs created')\n",
    "ax2.set_ylabel('Average savings (log)')"
   ]
  },
  {
   "cell_type": "markdown",
   "id": "db4e2d7e",
   "metadata": {},
   "source": [
    "## Q2 Histogram"
   ]
  },
  {
   "cell_type": "code",
   "execution_count": 206,
   "id": "93577bb9",
   "metadata": {},
   "outputs": [
    {
     "name": "stderr",
     "output_type": "stream",
     "text": [
      "D:\\Anaconda\\lib\\site-packages\\pandas\\core\\arraylike.py:402: RuntimeWarning: invalid value encountered in log10\n",
      "  result = getattr(ufunc, method)(*inputs, **kwargs)\n"
     ]
    },
    {
     "data": {
      "text/plain": [
       "<Axes: xlabel='Total Savings', ylabel='Count'>"
      ]
     },
     "execution_count": 206,
     "metadata": {},
     "output_type": "execute_result"
    },
    {
     "data": {
      "image/png": "[encoded data removed]",
      "text/plain": [
       "<Figure size 640x480 with 1 Axes>"
      ]
     },
     "metadata": {},
     "output_type": "display_data"
    }
   ],
   "source": [
    "sns.histplot(x = 'Total Savings', data = NTA_df, bins = 30, log_scale= True, kde = True)"
   ]
  },
  {
   "cell_type": "code",
   "execution_count": 220,
   "id": "bfc52d9b",
   "metadata": {},
   "outputs": [],
   "source": [
    "ECSP['Effective Date'] = pd.to_datetime(ECSP['Effective Date'])"
   ]
  },
  {
   "cell_type": "code",
   "execution_count": 230,
   "id": "f8961e74",
   "metadata": {},
   "outputs": [],
   "source": [
    "ECSP['Month'] = ECSP['Effective Date'].apply(lambda time: time.month)"
   ]
  },
  {
   "cell_type": "code",
   "execution_count": 242,
   "id": "38f2a37c",
   "metadata": {},
   "outputs": [
    {
     "name": "stderr",
     "output_type": "stream",
     "text": [
      "C:\\Users\\16143\\AppData\\Local\\Temp\\ipykernel_24864\\2154222711.py:1: FutureWarning: The default value of numeric_only in DataFrameGroupBy.sum is deprecated. In a future version, numeric_only will default to False. Either specify numeric_only or select only columns which should be valid for the function.\n",
      "  total_job_by_month = ECSP.groupby('Month').sum()['Job created']\n"
     ]
    }
   ],
   "source": [
    "total_job_by_month = ECSP.groupby('Month').sum()['Job created'] "
   ]
  },
  {
   "cell_type": "code",
   "execution_count": 258,
   "id": "e54eea06",
   "metadata": {},
   "outputs": [
    {
     "data": {
      "text/plain": [
       "Text(0, 0.5, 'Total jobs')"
      ]
     },
     "execution_count": 258,
     "metadata": {},
     "output_type": "execute_result"
    },
    {
     "data": {
      "image/png": "[encoded data removed]",
      "text/plain": [
       "<Figure size 640x480 with 1 Axes>"
      ]
     },
     "metadata": {},
     "output_type": "display_data"
    }
   ],
   "source": [
    "plt.plot(total_job_by_month, c='r', marker = 'o')\n",
    "plt.xlabel('Month')\n",
    "plt.ylabel('Total jobs')"
   ]
  },
  {
   "cell_type": "code",
   "execution_count": null,
   "id": "5c66444d",
   "metadata": {},
   "outputs": [],
   "source": []
  },
  {
   "cell_type": "code",
   "execution_count": null,
   "id": "85b57ec4",
   "metadata": {},
   "outputs": [],
   "source": []
  }
 ],
 "metadata": {
  "kernelspec": {
   "display_name": "Python 3 (ipykernel)",
   "language": "python",
   "name": "python3"
  },
  "language_info": {
   "codemirror_mode": {
    "name": "ipython",
    "version": 3
   },
   "file_extension": ".py",
   "mimetype": "text/x-python",
   "name": "python",
   "nbconvert_exporter": "python",
   "pygments_lexer": "ipython3",
   "version": "3.10.9"
  }
 },
 "nbformat": 4,
 "nbformat_minor": 5
}
